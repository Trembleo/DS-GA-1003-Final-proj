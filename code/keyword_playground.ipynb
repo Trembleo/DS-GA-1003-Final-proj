{
 "cells": [
  {
   "cell_type": "code",
   "execution_count": null,
   "metadata": {
    "Collapsed": "false"
   },
   "outputs": [],
   "source": [
    "!pip install pytrends\n",
    "!pip install --upgrade --user git+https://github.com/GeneralMills/pytrends\n",
    "!pip install nltk\n",
    "!pip install textblob\n",
    "!pip install tqdm"
   ]
  },
  {
   "cell_type": "code",
   "execution_count": 4,
   "metadata": {
    "Collapsed": "false"
   },
   "outputs": [],
   "source": [
    "import os\n",
    "import numpy as np\n",
    "import pandas as pd\n",
    "from keyword_fetcher import KeywordFetcher"
   ]
  },
  {
   "cell_type": "code",
   "execution_count": 5,
   "metadata": {
    "Collapsed": "false"
   },
   "outputs": [],
   "source": [
    "kf = KeywordFetcher(\"../data/frequent_terms.csv\", \"../data/frequent_bigrams.csv\", \"../data/frequent_trigrams.csv\")"
   ]
  },
  {
   "cell_type": "code",
   "execution_count": 6,
   "metadata": {
    "Collapsed": "false"
   },
   "outputs": [],
   "source": [
    "kw = kf.generate_keyword_list(num_features=50)"
   ]
  },
  {
   "cell_type": "code",
   "execution_count": 7,
   "metadata": {
    "Collapsed": "false"
   },
   "outputs": [
    {
     "data": {
      "text/html": [
       "<div>\n",
       "<style scoped>\n",
       "    .dataframe tbody tr th:only-of-type {\n",
       "        vertical-align: middle;\n",
       "    }\n",
       "\n",
       "    .dataframe tbody tr th {\n",
       "        vertical-align: top;\n",
       "    }\n",
       "\n",
       "    .dataframe thead th {\n",
       "        text-align: right;\n",
       "    }\n",
       "</style>\n",
       "<table border=\"1\" class=\"dataframe\">\n",
       "  <thead>\n",
       "    <tr style=\"text-align: right;\">\n",
       "      <th></th>\n",
       "      <th>keyword</th>\n",
       "      <th>count</th>\n",
       "    </tr>\n",
       "  </thead>\n",
       "  <tbody>\n",
       "    <tr>\n",
       "      <th>0</th>\n",
       "      <td>coronavirus</td>\n",
       "      <td>28120854</td>\n",
       "    </tr>\n",
       "    <tr>\n",
       "      <th>1</th>\n",
       "      <td>covid19</td>\n",
       "      <td>8630451</td>\n",
       "    </tr>\n",
       "    <tr>\n",
       "      <th>2</th>\n",
       "      <td>covid</td>\n",
       "      <td>8171888</td>\n",
       "    </tr>\n",
       "    <tr>\n",
       "      <th>3</th>\n",
       "      <td>19</td>\n",
       "      <td>7903151</td>\n",
       "    </tr>\n",
       "    <tr>\n",
       "      <th>4</th>\n",
       "      <td>nan</td>\n",
       "      <td>3888201</td>\n",
       "    </tr>\n",
       "    <tr>\n",
       "      <th>...</th>\n",
       "      <td>...</td>\n",
       "      <td>...</td>\n",
       "    </tr>\n",
       "    <tr>\n",
       "      <th>145</th>\n",
       "      <td>penyebaran covid 19</td>\n",
       "      <td>36072</td>\n",
       "    </tr>\n",
       "    <tr>\n",
       "      <th>146</th>\n",
       "      <td>covid 19 testing</td>\n",
       "      <td>35640</td>\n",
       "    </tr>\n",
       "    <tr>\n",
       "      <th>147</th>\n",
       "      <td>deliver copy officials</td>\n",
       "      <td>35454</td>\n",
       "    </tr>\n",
       "    <tr>\n",
       "      <th>148</th>\n",
       "      <td>copy officials last</td>\n",
       "      <td>35452</td>\n",
       "    </tr>\n",
       "    <tr>\n",
       "      <th>149</th>\n",
       "      <td>officials last delivered</td>\n",
       "      <td>35452</td>\n",
       "    </tr>\n",
       "  </tbody>\n",
       "</table>\n",
       "<p>150 rows × 2 columns</p>\n",
       "</div>"
      ],
      "text/plain": [
       "                      keyword     count\n",
       "0                 coronavirus  28120854\n",
       "1                     covid19   8630451\n",
       "2                       covid   8171888\n",
       "3                          19   7903151\n",
       "4                         nan   3888201\n",
       "..                        ...       ...\n",
       "145       penyebaran covid 19     36072\n",
       "146          covid 19 testing     35640\n",
       "147    deliver copy officials     35454\n",
       "148       copy officials last     35452\n",
       "149  officials last delivered     35452\n",
       "\n",
       "[150 rows x 2 columns]"
      ]
     },
     "execution_count": 7,
     "metadata": {},
     "output_type": "execute_result"
    }
   ],
   "source": [
    "kw"
   ]
  },
  {
   "cell_type": "code",
   "execution_count": null,
   "metadata": {
    "Collapsed": "false"
   },
   "outputs": [],
   "source": [
    "result = kf.fetch_trends(kw, \"2020-01-21\", \"2020-05-01\", 'US', \"../data/trends/keywords_30_US.csv\")"
   ]
  },
  {
   "cell_type": "code",
   "execution_count": 12,
   "metadata": {
    "Collapsed": "false"
   },
   "outputs": [
    {
     "data": {
      "text/html": [
       "<div>\n",
       "<style scoped>\n",
       "    .dataframe tbody tr th:only-of-type {\n",
       "        vertical-align: middle;\n",
       "    }\n",
       "\n",
       "    .dataframe tbody tr th {\n",
       "        vertical-align: top;\n",
       "    }\n",
       "\n",
       "    .dataframe thead th {\n",
       "        text-align: right;\n",
       "    }\n",
       "</style>\n",
       "<table border=\"1\" class=\"dataframe\">\n",
       "  <thead>\n",
       "    <tr style=\"text-align: right;\">\n",
       "      <th></th>\n",
       "      <th>coronavirus</th>\n",
       "      <th>covid19</th>\n",
       "      <th>covid</th>\n",
       "      <th>19</th>\n",
       "      <th>nan</th>\n",
       "      <th>people</th>\n",
       "      <th>via</th>\n",
       "      <th>china</th>\n",
       "      <th>amp</th>\n",
       "      <th>trump</th>\n",
       "      <th>...</th>\n",
       "      <th>due coronavirus</th>\n",
       "      <th>novel coronavirus</th>\n",
       "      <th>new york</th>\n",
       "      <th>covid 19 pandemic</th>\n",
       "      <th>coronavirus covid 19</th>\n",
       "      <th>covid 19 cases</th>\n",
       "      <th>covid 19 crisis</th>\n",
       "      <th>coronavirus death toll</th>\n",
       "      <th>due covid 19</th>\n",
       "      <th>bbc news coronavirus</th>\n",
       "    </tr>\n",
       "    <tr>\n",
       "      <th>date</th>\n",
       "      <th></th>\n",
       "      <th></th>\n",
       "      <th></th>\n",
       "      <th></th>\n",
       "      <th></th>\n",
       "      <th></th>\n",
       "      <th></th>\n",
       "      <th></th>\n",
       "      <th></th>\n",
       "      <th></th>\n",
       "      <th></th>\n",
       "      <th></th>\n",
       "      <th></th>\n",
       "      <th></th>\n",
       "      <th></th>\n",
       "      <th></th>\n",
       "      <th></th>\n",
       "      <th></th>\n",
       "      <th></th>\n",
       "      <th></th>\n",
       "      <th></th>\n",
       "    </tr>\n",
       "  </thead>\n",
       "  <tbody>\n",
       "    <tr>\n",
       "      <th>2020-01-21</th>\n",
       "      <td>2</td>\n",
       "      <td>0</td>\n",
       "      <td>0</td>\n",
       "      <td>9</td>\n",
       "      <td>84</td>\n",
       "      <td>54</td>\n",
       "      <td>95</td>\n",
       "      <td>39</td>\n",
       "      <td>88</td>\n",
       "      <td>30</td>\n",
       "      <td>...</td>\n",
       "      <td>0</td>\n",
       "      <td>20</td>\n",
       "      <td>63</td>\n",
       "      <td>0</td>\n",
       "      <td>0</td>\n",
       "      <td>0</td>\n",
       "      <td>0</td>\n",
       "      <td>0</td>\n",
       "      <td>0</td>\n",
       "      <td>0</td>\n",
       "    </tr>\n",
       "  </tbody>\n",
       "</table>\n",
       "<p>1 rows × 27 columns</p>\n",
       "</div>"
      ],
      "text/plain": [
       "            coronavirus  covid19  covid  19  nan  people  via  china  amp  \\\n",
       "date                                                                        \n",
       "2020-01-21            2        0      0   9   84      54   95     39   88   \n",
       "\n",
       "            trump  ...  due coronavirus  novel coronavirus  new york  \\\n",
       "date               ...                                                 \n",
       "2020-01-21     30  ...                0                 20        63   \n",
       "\n",
       "            covid 19 pandemic  coronavirus covid 19  covid 19 cases  \\\n",
       "date                                                                  \n",
       "2020-01-21                  0                     0               0   \n",
       "\n",
       "            covid 19 crisis  coronavirus death toll  due covid 19  \\\n",
       "date                                                                \n",
       "2020-01-21                0                       0             0   \n",
       "\n",
       "            bbc news coronavirus  \n",
       "date                              \n",
       "2020-01-21                     0  \n",
       "\n",
       "[1 rows x 27 columns]"
      ]
     },
     "execution_count": 12,
     "metadata": {},
     "output_type": "execute_result"
    }
   ],
   "source": [
    "result.head(1)"
   ]
  },
  {
   "cell_type": "code",
   "execution_count": 7,
   "metadata": {
    "Collapsed": "false"
   },
   "outputs": [],
   "source": [
    "region_list = ['IL']"
   ]
  },
  {
   "cell_type": "code",
   "execution_count": null,
   "metadata": {
    "Collapsed": "false"
   },
   "outputs": [],
   "source": [
    "for region in region_list:\n",
    "    kf.fetch_trends(kw, \"2020-01-21\", \"2020-05-01\", 'US-'+region, \"../data/trends/keywords_150_US-{}.csv\".format(region))"
   ]
  },
  {
   "cell_type": "code",
   "execution_count": 8,
   "metadata": {
    "Collapsed": "false"
   },
   "outputs": [],
   "source": [
    "df1=pd.read_csv('../data/trends/keywords_150_US-CA.csv')\n",
    "df1.insert(1, \"population\", 39510000)\n",
    "df1.insert(1, \"state\", \"CA\")"
   ]
  },
  {
   "cell_type": "code",
   "execution_count": 9,
   "metadata": {
    "Collapsed": "false"
   },
   "outputs": [],
   "source": [
    "df2=pd.read_csv('../data/trends/keywords_150_US-NY.csv')\n",
    "df2.insert(1, \"population\", 19450000)\n",
    "df2.insert(1, \"state\", \"NY\")"
   ]
  },
  {
   "cell_type": "code",
   "execution_count": 10,
   "metadata": {
    "Collapsed": "false"
   },
   "outputs": [],
   "source": [
    "df3=pd.read_csv('../data/trends/keywords_150_US-CT.csv')\n",
    "df3.insert(1, \"population\", 3565000)\n",
    "df3.insert(1, \"state\", \"CT\")"
   ]
  },
  {
   "cell_type": "code",
   "execution_count": 11,
   "metadata": {
    "Collapsed": "false"
   },
   "outputs": [],
   "source": [
    "df4=pd.read_csv('../data/trends/keywords_150_US-FL.csv')\n",
    "df4.insert(1, \"population\", 21480000)\n",
    "df4.insert(1, \"state\", \"FL\")"
   ]
  },
  {
   "cell_type": "code",
   "execution_count": 12,
   "metadata": {
    "Collapsed": "false"
   },
   "outputs": [],
   "source": [
    "df5=pd.read_csv('../data/trends/keywords_150_US-GA.csv')\n",
    "df5.insert(1, \"population\", 10620000)\n",
    "df5.insert(1, \"state\", \"GA\")"
   ]
  },
  {
   "cell_type": "code",
   "execution_count": 13,
   "metadata": {
    "Collapsed": "false"
   },
   "outputs": [],
   "source": [
    "df6=pd.read_csv('../data/trends/keywords_150_US-IL.csv')\n",
    "df6.insert(1, \"population\", 12670000)\n",
    "df6.insert(1, \"state\", \"IL\")"
   ]
  },
  {
   "cell_type": "code",
   "execution_count": 14,
   "metadata": {
    "Collapsed": "false"
   },
   "outputs": [],
   "source": [
    "df7=pd.read_csv('../data/trends/keywords_150_US-MA.csv')\n",
    "df7.insert(1, \"population\", 6893000)\n",
    "df7.insert(1, \"state\", \"MA\")"
   ]
  },
  {
   "cell_type": "code",
   "execution_count": 15,
   "metadata": {
    "Collapsed": "false"
   },
   "outputs": [],
   "source": [
    "df8=pd.read_csv('../data/trends/keywords_150_US-MD.csv')\n",
    "df8.insert(1, \"population\", 6046000)\n",
    "df8.insert(1, \"state\", \"MD\")"
   ]
  },
  {
   "cell_type": "code",
   "execution_count": 16,
   "metadata": {
    "Collapsed": "false"
   },
   "outputs": [],
   "source": [
    "df9=pd.read_csv('../data/trends/keywords_150_US-NC.csv')\n",
    "df9.insert(1, \"population\", 10490000)\n",
    "df9.insert(1, \"state\", \"NC\")"
   ]
  },
  {
   "cell_type": "code",
   "execution_count": 17,
   "metadata": {
    "Collapsed": "false"
   },
   "outputs": [],
   "source": [
    "df10=pd.read_csv('../data/trends/keywords_150_US-NJ.csv')\n",
    "df10.insert(1, \"population\", 8882000)\n",
    "df10.insert(1, \"state\", \"NJ\")"
   ]
  },
  {
   "cell_type": "code",
   "execution_count": 120,
   "metadata": {
    "Collapsed": "false"
   },
   "outputs": [],
   "source": [
    "df = pd.concat([df1, df2, df3, df4, df5, df6, df7, df8, df9, df10], ignore_index=True)"
   ]
  },
  {
   "cell_type": "code",
   "execution_count": 121,
   "metadata": {
    "Collapsed": "false"
   },
   "outputs": [],
   "source": [
    "df = df.sort_values(by='date', ignore_index=True)"
   ]
  },
  {
   "cell_type": "code",
   "execution_count": 113,
   "metadata": {
    "Collapsed": "false"
   },
   "outputs": [],
   "source": [
    "df.to_csv('../data/keywords_150_10states.csv')"
   ]
  },
  {
   "cell_type": "code",
   "execution_count": 207,
   "metadata": {
    "Collapsed": "false"
   },
   "outputs": [],
   "source": [
    "label = pd.read_csv('../data/covid19-in-usa/us_states_covid19_daily.csv')"
   ]
  },
  {
   "cell_type": "code",
   "execution_count": 208,
   "metadata": {
    "Collapsed": "false"
   },
   "outputs": [
    {
     "data": {
      "text/html": [
       "<div>\n",
       "<style scoped>\n",
       "    .dataframe tbody tr th:only-of-type {\n",
       "        vertical-align: middle;\n",
       "    }\n",
       "\n",
       "    .dataframe tbody tr th {\n",
       "        vertical-align: top;\n",
       "    }\n",
       "\n",
       "    .dataframe thead th {\n",
       "        text-align: right;\n",
       "    }\n",
       "</style>\n",
       "<table border=\"1\" class=\"dataframe\">\n",
       "  <thead>\n",
       "    <tr style=\"text-align: right;\">\n",
       "      <th></th>\n",
       "      <th>date</th>\n",
       "      <th>state</th>\n",
       "      <th>positive</th>\n",
       "      <th>negative</th>\n",
       "      <th>pending</th>\n",
       "      <th>hospitalizedCurrently</th>\n",
       "      <th>hospitalizedCumulative</th>\n",
       "      <th>inIcuCurrently</th>\n",
       "      <th>inIcuCumulative</th>\n",
       "      <th>onVentilatorCurrently</th>\n",
       "      <th>...</th>\n",
       "      <th>hospitalized</th>\n",
       "      <th>total</th>\n",
       "      <th>totalTestResults</th>\n",
       "      <th>posNeg</th>\n",
       "      <th>fips</th>\n",
       "      <th>deathIncrease</th>\n",
       "      <th>hospitalizedIncrease</th>\n",
       "      <th>negativeIncrease</th>\n",
       "      <th>positiveIncrease</th>\n",
       "      <th>totalTestResultsIncrease</th>\n",
       "    </tr>\n",
       "  </thead>\n",
       "  <tbody>\n",
       "    <tr>\n",
       "      <th>0</th>\n",
       "      <td>20200510</td>\n",
       "      <td>AK</td>\n",
       "      <td>379.0</td>\n",
       "      <td>26985.0</td>\n",
       "      <td>NaN</td>\n",
       "      <td>8.0</td>\n",
       "      <td>NaN</td>\n",
       "      <td>NaN</td>\n",
       "      <td>NaN</td>\n",
       "      <td>NaN</td>\n",
       "      <td>...</td>\n",
       "      <td>NaN</td>\n",
       "      <td>27364</td>\n",
       "      <td>27364</td>\n",
       "      <td>27364</td>\n",
       "      <td>2</td>\n",
       "      <td>0.0</td>\n",
       "      <td>0.0</td>\n",
       "      <td>914.0</td>\n",
       "      <td>1.0</td>\n",
       "      <td>915.0</td>\n",
       "    </tr>\n",
       "    <tr>\n",
       "      <th>1</th>\n",
       "      <td>20200510</td>\n",
       "      <td>AL</td>\n",
       "      <td>9777.0</td>\n",
       "      <td>117644.0</td>\n",
       "      <td>NaN</td>\n",
       "      <td>NaN</td>\n",
       "      <td>1240.0</td>\n",
       "      <td>NaN</td>\n",
       "      <td>460.0</td>\n",
       "      <td>NaN</td>\n",
       "      <td>...</td>\n",
       "      <td>1240.0</td>\n",
       "      <td>127421</td>\n",
       "      <td>127421</td>\n",
       "      <td>127421</td>\n",
       "      <td>1</td>\n",
       "      <td>5.0</td>\n",
       "      <td>12.0</td>\n",
       "      <td>1717.0</td>\n",
       "      <td>210.0</td>\n",
       "      <td>1927.0</td>\n",
       "    </tr>\n",
       "    <tr>\n",
       "      <th>2</th>\n",
       "      <td>20200510</td>\n",
       "      <td>AR</td>\n",
       "      <td>3747.0</td>\n",
       "      <td>61781.0</td>\n",
       "      <td>NaN</td>\n",
       "      <td>64.0</td>\n",
       "      <td>471.0</td>\n",
       "      <td>NaN</td>\n",
       "      <td>NaN</td>\n",
       "      <td>14.0</td>\n",
       "      <td>...</td>\n",
       "      <td>471.0</td>\n",
       "      <td>65528</td>\n",
       "      <td>65528</td>\n",
       "      <td>65528</td>\n",
       "      <td>5</td>\n",
       "      <td>0.0</td>\n",
       "      <td>0.0</td>\n",
       "      <td>0.0</td>\n",
       "      <td>0.0</td>\n",
       "      <td>0.0</td>\n",
       "    </tr>\n",
       "    <tr>\n",
       "      <th>3</th>\n",
       "      <td>20200510</td>\n",
       "      <td>AS</td>\n",
       "      <td>0.0</td>\n",
       "      <td>83.0</td>\n",
       "      <td>NaN</td>\n",
       "      <td>NaN</td>\n",
       "      <td>NaN</td>\n",
       "      <td>NaN</td>\n",
       "      <td>NaN</td>\n",
       "      <td>NaN</td>\n",
       "      <td>...</td>\n",
       "      <td>NaN</td>\n",
       "      <td>83</td>\n",
       "      <td>83</td>\n",
       "      <td>83</td>\n",
       "      <td>60</td>\n",
       "      <td>0.0</td>\n",
       "      <td>0.0</td>\n",
       "      <td>0.0</td>\n",
       "      <td>0.0</td>\n",
       "      <td>0.0</td>\n",
       "    </tr>\n",
       "    <tr>\n",
       "      <th>4</th>\n",
       "      <td>20200510</td>\n",
       "      <td>AZ</td>\n",
       "      <td>11119.0</td>\n",
       "      <td>126620.0</td>\n",
       "      <td>NaN</td>\n",
       "      <td>713.0</td>\n",
       "      <td>1528.0</td>\n",
       "      <td>300.0</td>\n",
       "      <td>NaN</td>\n",
       "      <td>195.0</td>\n",
       "      <td>...</td>\n",
       "      <td>1528.0</td>\n",
       "      <td>137739</td>\n",
       "      <td>137739</td>\n",
       "      <td>137739</td>\n",
       "      <td>4</td>\n",
       "      <td>4.0</td>\n",
       "      <td>14.0</td>\n",
       "      <td>8640.0</td>\n",
       "      <td>159.0</td>\n",
       "      <td>8799.0</td>\n",
       "    </tr>\n",
       "    <tr>\n",
       "      <th>...</th>\n",
       "      <td>...</td>\n",
       "      <td>...</td>\n",
       "      <td>...</td>\n",
       "      <td>...</td>\n",
       "      <td>...</td>\n",
       "      <td>...</td>\n",
       "      <td>...</td>\n",
       "      <td>...</td>\n",
       "      <td>...</td>\n",
       "      <td>...</td>\n",
       "      <td>...</td>\n",
       "      <td>...</td>\n",
       "      <td>...</td>\n",
       "      <td>...</td>\n",
       "      <td>...</td>\n",
       "      <td>...</td>\n",
       "      <td>...</td>\n",
       "      <td>...</td>\n",
       "      <td>...</td>\n",
       "      <td>...</td>\n",
       "      <td>...</td>\n",
       "    </tr>\n",
       "    <tr>\n",
       "      <th>3708</th>\n",
       "      <td>20200126</td>\n",
       "      <td>WA</td>\n",
       "      <td>1.0</td>\n",
       "      <td>NaN</td>\n",
       "      <td>NaN</td>\n",
       "      <td>NaN</td>\n",
       "      <td>NaN</td>\n",
       "      <td>NaN</td>\n",
       "      <td>NaN</td>\n",
       "      <td>NaN</td>\n",
       "      <td>...</td>\n",
       "      <td>NaN</td>\n",
       "      <td>1</td>\n",
       "      <td>1</td>\n",
       "      <td>1</td>\n",
       "      <td>53</td>\n",
       "      <td>0.0</td>\n",
       "      <td>0.0</td>\n",
       "      <td>0.0</td>\n",
       "      <td>0.0</td>\n",
       "      <td>0.0</td>\n",
       "    </tr>\n",
       "    <tr>\n",
       "      <th>3709</th>\n",
       "      <td>20200125</td>\n",
       "      <td>WA</td>\n",
       "      <td>1.0</td>\n",
       "      <td>NaN</td>\n",
       "      <td>NaN</td>\n",
       "      <td>NaN</td>\n",
       "      <td>NaN</td>\n",
       "      <td>NaN</td>\n",
       "      <td>NaN</td>\n",
       "      <td>NaN</td>\n",
       "      <td>...</td>\n",
       "      <td>NaN</td>\n",
       "      <td>1</td>\n",
       "      <td>1</td>\n",
       "      <td>1</td>\n",
       "      <td>53</td>\n",
       "      <td>0.0</td>\n",
       "      <td>0.0</td>\n",
       "      <td>0.0</td>\n",
       "      <td>0.0</td>\n",
       "      <td>0.0</td>\n",
       "    </tr>\n",
       "    <tr>\n",
       "      <th>3710</th>\n",
       "      <td>20200124</td>\n",
       "      <td>WA</td>\n",
       "      <td>1.0</td>\n",
       "      <td>NaN</td>\n",
       "      <td>NaN</td>\n",
       "      <td>NaN</td>\n",
       "      <td>NaN</td>\n",
       "      <td>NaN</td>\n",
       "      <td>NaN</td>\n",
       "      <td>NaN</td>\n",
       "      <td>...</td>\n",
       "      <td>NaN</td>\n",
       "      <td>1</td>\n",
       "      <td>1</td>\n",
       "      <td>1</td>\n",
       "      <td>53</td>\n",
       "      <td>0.0</td>\n",
       "      <td>0.0</td>\n",
       "      <td>0.0</td>\n",
       "      <td>0.0</td>\n",
       "      <td>0.0</td>\n",
       "    </tr>\n",
       "    <tr>\n",
       "      <th>3711</th>\n",
       "      <td>20200123</td>\n",
       "      <td>WA</td>\n",
       "      <td>1.0</td>\n",
       "      <td>NaN</td>\n",
       "      <td>NaN</td>\n",
       "      <td>NaN</td>\n",
       "      <td>NaN</td>\n",
       "      <td>NaN</td>\n",
       "      <td>NaN</td>\n",
       "      <td>NaN</td>\n",
       "      <td>...</td>\n",
       "      <td>NaN</td>\n",
       "      <td>1</td>\n",
       "      <td>1</td>\n",
       "      <td>1</td>\n",
       "      <td>53</td>\n",
       "      <td>0.0</td>\n",
       "      <td>0.0</td>\n",
       "      <td>0.0</td>\n",
       "      <td>0.0</td>\n",
       "      <td>0.0</td>\n",
       "    </tr>\n",
       "    <tr>\n",
       "      <th>3712</th>\n",
       "      <td>20200122</td>\n",
       "      <td>WA</td>\n",
       "      <td>1.0</td>\n",
       "      <td>NaN</td>\n",
       "      <td>NaN</td>\n",
       "      <td>NaN</td>\n",
       "      <td>NaN</td>\n",
       "      <td>NaN</td>\n",
       "      <td>NaN</td>\n",
       "      <td>NaN</td>\n",
       "      <td>...</td>\n",
       "      <td>NaN</td>\n",
       "      <td>1</td>\n",
       "      <td>1</td>\n",
       "      <td>1</td>\n",
       "      <td>53</td>\n",
       "      <td>NaN</td>\n",
       "      <td>NaN</td>\n",
       "      <td>NaN</td>\n",
       "      <td>NaN</td>\n",
       "      <td>NaN</td>\n",
       "    </tr>\n",
       "  </tbody>\n",
       "</table>\n",
       "<p>3713 rows × 27 columns</p>\n",
       "</div>"
      ],
      "text/plain": [
       "          date state  positive  negative  pending  hospitalizedCurrently  \\\n",
       "0     20200510    AK     379.0   26985.0      NaN                    8.0   \n",
       "1     20200510    AL    9777.0  117644.0      NaN                    NaN   \n",
       "2     20200510    AR    3747.0   61781.0      NaN                   64.0   \n",
       "3     20200510    AS       0.0      83.0      NaN                    NaN   \n",
       "4     20200510    AZ   11119.0  126620.0      NaN                  713.0   \n",
       "...        ...   ...       ...       ...      ...                    ...   \n",
       "3708  20200126    WA       1.0       NaN      NaN                    NaN   \n",
       "3709  20200125    WA       1.0       NaN      NaN                    NaN   \n",
       "3710  20200124    WA       1.0       NaN      NaN                    NaN   \n",
       "3711  20200123    WA       1.0       NaN      NaN                    NaN   \n",
       "3712  20200122    WA       1.0       NaN      NaN                    NaN   \n",
       "\n",
       "      hospitalizedCumulative  inIcuCurrently  inIcuCumulative  \\\n",
       "0                        NaN             NaN              NaN   \n",
       "1                     1240.0             NaN            460.0   \n",
       "2                      471.0             NaN              NaN   \n",
       "3                        NaN             NaN              NaN   \n",
       "4                     1528.0           300.0              NaN   \n",
       "...                      ...             ...              ...   \n",
       "3708                     NaN             NaN              NaN   \n",
       "3709                     NaN             NaN              NaN   \n",
       "3710                     NaN             NaN              NaN   \n",
       "3711                     NaN             NaN              NaN   \n",
       "3712                     NaN             NaN              NaN   \n",
       "\n",
       "      onVentilatorCurrently  ...  hospitalized   total totalTestResults  \\\n",
       "0                       NaN  ...           NaN   27364            27364   \n",
       "1                       NaN  ...        1240.0  127421           127421   \n",
       "2                      14.0  ...         471.0   65528            65528   \n",
       "3                       NaN  ...           NaN      83               83   \n",
       "4                     195.0  ...        1528.0  137739           137739   \n",
       "...                     ...  ...           ...     ...              ...   \n",
       "3708                    NaN  ...           NaN       1                1   \n",
       "3709                    NaN  ...           NaN       1                1   \n",
       "3710                    NaN  ...           NaN       1                1   \n",
       "3711                    NaN  ...           NaN       1                1   \n",
       "3712                    NaN  ...           NaN       1                1   \n",
       "\n",
       "      posNeg fips deathIncrease  hospitalizedIncrease  negativeIncrease  \\\n",
       "0      27364    2           0.0                   0.0             914.0   \n",
       "1     127421    1           5.0                  12.0            1717.0   \n",
       "2      65528    5           0.0                   0.0               0.0   \n",
       "3         83   60           0.0                   0.0               0.0   \n",
       "4     137739    4           4.0                  14.0            8640.0   \n",
       "...      ...  ...           ...                   ...               ...   \n",
       "3708       1   53           0.0                   0.0               0.0   \n",
       "3709       1   53           0.0                   0.0               0.0   \n",
       "3710       1   53           0.0                   0.0               0.0   \n",
       "3711       1   53           0.0                   0.0               0.0   \n",
       "3712       1   53           NaN                   NaN               NaN   \n",
       "\n",
       "      positiveIncrease  totalTestResultsIncrease  \n",
       "0                  1.0                     915.0  \n",
       "1                210.0                    1927.0  \n",
       "2                  0.0                       0.0  \n",
       "3                  0.0                       0.0  \n",
       "4                159.0                    8799.0  \n",
       "...                ...                       ...  \n",
       "3708               0.0                       0.0  \n",
       "3709               0.0                       0.0  \n",
       "3710               0.0                       0.0  \n",
       "3711               0.0                       0.0  \n",
       "3712               NaN                       NaN  \n",
       "\n",
       "[3713 rows x 27 columns]"
      ]
     },
     "execution_count": 208,
     "metadata": {},
     "output_type": "execute_result"
    }
   ],
   "source": [
    "label"
   ]
  },
  {
   "cell_type": "code",
   "execution_count": 106,
   "metadata": {
    "Collapsed": "false"
   },
   "outputs": [],
   "source": [
    "from datetime import date, timedelta"
   ]
  },
  {
   "cell_type": "code",
   "execution_count": 116,
   "metadata": {
    "Collapsed": "false"
   },
   "outputs": [],
   "source": [
    "adate = date.fromisoformat(df.loc[0]['date']) + timedelta(days=11)"
   ]
  },
  {
   "cell_type": "code",
   "execution_count": 117,
   "metadata": {
    "Collapsed": "false"
   },
   "outputs": [
    {
     "data": {
      "text/plain": [
       "'20200201'"
      ]
     },
     "execution_count": 117,
     "metadata": {},
     "output_type": "execute_result"
    }
   ],
   "source": [
    "str(adate.year) + str(adate.month).zfill(2) + str(adate.day).zfill(2)"
   ]
  },
  {
   "cell_type": "code",
   "execution_count": 225,
   "metadata": {
    "Collapsed": "false"
   },
   "outputs": [],
   "source": [
    "y = []\n",
    "label = label.fillna(0)\n",
    "for index, row in df.iterrows():\n",
    "    state = row['state']\n",
    "    iso_date = row['date']\n",
    "    adate = date.fromisoformat(iso_date) + timedelta(days=0)\n",
    "    int_date = int(str(adate.year) + str(adate.month).zfill(2) + str(adate.day).zfill(2))\n",
    "    label_row = label.loc[(label['state']==state) & (label['date']==int_date)]\n",
    "    assert(len(label_row)==0 or len(label_row)==1)\n",
    "    if label_row.empty:\n",
    "        y.append(0)\n",
    "    else:\n",
    "        y.append(label_row['positiveIncrease'].values[0])"
   ]
  },
  {
   "cell_type": "code",
   "execution_count": 1,
   "metadata": {
    "Collapsed": "false"
   },
   "outputs": [],
   "source": [
    "from data_parser import DataParser"
   ]
  },
  {
   "cell_type": "code",
   "execution_count": 6,
   "metadata": {
    "Collapsed": "false"
   },
   "outputs": [],
   "source": [
    "dp = DataParser(keywords_path=\"../data/trends/keywords_150_10states.csv\", \n",
    "                cases_path=\"../data/covid19-in-usa/us_states_covid19_daily.csv\", \n",
    "                start_date=\"2020-03-01\", end_date=\"2020-05-01\")"
   ]
  },
  {
   "cell_type": "code",
   "execution_count": 7,
   "metadata": {
    "Collapsed": "false"
   },
   "outputs": [],
   "source": [
    "y = dp.process_labels_state()"
   ]
  },
  {
   "cell_type": "code",
   "execution_count": 10,
   "metadata": {
    "Collapsed": "false"
   },
   "outputs": [
    {
     "name": "stdout",
     "output_type": "stream",
     "text": [
      "[0, 0, 0, 0, 0, 0, 0, 0, 0, 0, 0, 0, 0, 0, 0, 0, 0, 0, 0, 0, 0, 0, 0, 0, 0, 0, 0, 0, 0, 0, 0.0, 0.0, 0.0, 0.0, 0.0, 0, 0, 0, 0.0, 0, 0, 0.0, 16.0, 0, 0.0, 0.0, 0.0, 1.0, 0.0, 7.0, 0.0, 0.0, 7.0, 1.0, 11.0, 3.0, 0.0, 0, 0, 0.0, 9.0, 5.0, 3.0, 43.0, 0.0, 0.0, 1.0, 4.0, 0, 0.0, 0.0, 0, 2.0, 1.0, 3.0, 1.0, 0.0, 19.0, 29.0, 0.0, 26.0, 0.0, 1.0, 1.0, 2.0, 0, 37.0, 0.0, 5.0, 5.0, 1.0, 19.0, 0, 12.0, 1.0, 5.0, 5.0, 1.0, 4.0, 31.0, 0.0, 3.0, 0, 5.0, 43.0, 0.0, 9.0, 9.0, 1.0, 24.0, 3.0, 6.0, 45.0, 9.0, 5.0, 0.0, 3.0, 4.0, 6.0, 0.0, 20.0, 11.0, 205.0, 18.0, 7.0, 3.0, 0.0, 0.0, 15.0, 5.0, 24.0, 0.0, 9.0, 14.0, 50.0, 103.0, 27.0, 5.0, 8.0, 15.0, 5.0, 26.0, 33.0, 48.0, 205.0, 18.0, 41.0, 9.0, 39.0, 9.0, 22.0, 80.0, 42.0, 33.0, 1.0, 6.0, 6.0, 29.0, 221.0, 25.0, 25.0, 21.0, 45.0, 750.0, 20.0, 7.0, 66.0, 15.0, 89.0, 148.0, 129.0, 51.0, 28.0, 128.0, 128.0, 38.0, 160.0, 27.0, 682.0, 23.0, 73.0, 90.0, 1770.0, 34.0, 22.0, 76.0, 313.0, 28.0, 315.0, 134.0, 98.0, 163.0, 2950.0, 130.0, 139.0, 133.0, 85.0, 148.0, 42.0, 40.0, 138.0, 87.0, 112.0, 3254.0, 168.0, 0.0, 216.0, 47.0, 437.0, 41.0, 257.0, 296.0, 121.0, 54.0, 4812.0, 172.0, 93.0, 587.0, 29.0, 71.0, 197.0, 42.0, 930.0, 5707.0, 192.0, 341.0, 131.0, 172.0, 224.0, 44.0, 262.0, 831.0, 382.0, 101.0, 4790.0, 241.0, 254.0, 369.0, 203.0, 61.0, 106.0, 727.0, 679.0, 330.0, 74.0, 5146.0, 221.0, 253.0, 270.0, 257.0, 673.0, 6447.0, 137.0, 157.0, 579.0, 651.0, 673.0, 278.0, 2474.0, 132.0, 1949.0, 127.0, 410.0, 279.0, 488.0, 873.0, 833.0, 194.0, 476.0, 7377.0, 365.0, 2299.0, 998.0, 172.0, 764.0, 1007.0, 218.0, 7683.0, 465.0, 0.0, 483.0, 698.0, 702.0, 1105.0, 2262.0, 285.0, 1065.0, 247.0, 7195.0, 105.0, 3250.0, 461.0, 267.0, 174.0, 1227.0, 578.0, 797.0, 739.0, 6984.0, 158.0, 868.0, 865.0, 191.0, 1120.0, 247.0, 9298.0, 937.0, 557.0, 2060.0, 1035.0, 1118.0, 673.0, 325.0, 7917.0, 86.0, 429.0, 986.0, 617.0, 3559.0, 709.0, 1055.0, 273.0, 346.0, 8669.0, 715.0, 267.0, 1036.0, 710.0, 1228.0, 3335.0, 483.0, 1510.0, 1436.0, 427.0, 1209.0, 4305.0, 1575.0, 1090.0, 10482.0, 236.0, 329.0, 4229.0, 362.0, 367.0, 1325.0, 1453.0, 10841.0, 309.0, 1526.0, 1334.0, 3381.0, 1040.0, 8327.0, 765.0, 1412.0, 484.0, 487.0, 899.0, 399.0, 183.0, 667.0, 1337.0, 3585.0, 1006.0, 898.0, 436.0, 285.0, 1173.0, 1231.0, 8658.0, 3326.0, 1365.0, 351.0, 1423.0, 1529.0, 8174.0, 875.0, 326.0, 1504.0, 1287.0, 1529.0, 708.0, 3021.0, 0.0, 10453.0, 1158.0, 205.0, 1092.0, 1588.0, 1083.0, 1352.0, 225.0, 3590.0, 909.0, 1344.0, 656.0, 2151.0, 2003.0, 665.0, 10621.0, 754.0, 1163.0, 257.0, 1465.0, 917.0, 1167.0, 2035.0, 783.0, 3561.0, 10575.0, 676.0, 404.0, 1888.0, 972.0, 9946.0, 3563.0, 726.0, 963.0, 1293.0, 0.0, 293.0, 8236.0, 2615.0, 861.0, 208.0, 2322.0, 1672.0, 531.0, 525.0, 3699.0, 863.0, 1246.0, 2734.0, 554.0, 1413.0, 296.0, 1173.0, 1346.0, 711.0, 6337.0, 4240.0, 1222.0, 608.0, 208.0, 1315.0, 766.0, 536.0, 908.0, 990.0, 7177.0, 11571.0, 766.0, 1861.0, 1144.0, 560.0, 99.0, 764.0, 1086.0, 1346.0, 2206.0, 1129.0, 342.0, 386.0, 1758.0, 8505.0, 682.0, 1140.0, 752.0, 4287.0, 2522.0, 1842.0, 1222.0, 1346.0, 3150.0, 1525.0, 7358.0, 394.0, 788.0, 925.0, 2633.0, 2402.0, 1435.0, 7090.0, 1585.0, 2953.0, 0.0, 475.0, 1150.0, 281.0, 736.0, 6054.0, 1197.0, 632.0, 522.0, 727.0, 741.0, 1370.0, 353.0, 2293.0, 3881.0, 664.0, 3505.0, 4726.0, 271.0, 854.0, 1151.0, 1596.0, 645.0, 646.0, 2265.0, 187.0, 509.0, 2283.0, 835.0, 4178.0, 3581.0, 1752.0, 1551.0, 545.0, 934.0, 859.0, 3478.0, 2109.0, 2135.0, 1745.0, 5526.0, 2049.0, 582.0, 269.0, 814.0, 1973.0, 1826.0, 388.0, 4124.0, 962.0, 772.0, 523.0, 631.0, 3079.0, 6244.0, 2977.0, 1885.0, 8130.0, 879.0, 821.0, 2207.0, 1342.0, 2724.0, 444.0, 635.0, 1150.0, 2379.0, 3327.0, 571.0, 2119.0, 1883.0, 10553.0, 661.0, 665.0, 548.0, 2126.0, 3515.0, 207.0, 706.0, 1027.0, 1590.0, 815.0, 5902.0, 687.0, 689.0, 1980.0, 610.0, 906.0, 2150.0, 312.0, 512.0, 0.0, 1524.0, 1300.0, 3951.0, 702.0, 1043.0, 708.0, 1840.0, 2219.0, 3110.0, 1567.0, 2668.0, 426.0, 626.0, 957.0, 2253.0, 4585.0, 455.0, 2408.0, 736.0, 1469.0, 347.0, 380.0, 1963.0, 2388.0, 583.0, 4681.0, 561.0, 497.0, 2417.0, 2563.0, 1940.0, 893.0, 933.0, 414.0, 1115.0, 1730.0, 2106.0, 3137.0, 1038.0, 1064.0, 3942.0, 1525.0, 2538.0]\n"
     ]
    }
   ],
   "source": [
    "print(y)"
   ]
  },
  {
   "cell_type": "code",
   "execution_count": null,
   "metadata": {
    "Collapsed": "false"
   },
   "outputs": [],
   "source": []
  }
 ],
 "metadata": {
  "kernelspec": {
   "display_name": "Python 3",
   "language": "python",
   "name": "python3"
  },
  "language_info": {
   "codemirror_mode": {
    "name": "ipython",
    "version": 3
   },
   "file_extension": ".py",
   "mimetype": "text/x-python",
   "name": "python",
   "nbconvert_exporter": "python",
   "pygments_lexer": "ipython3",
   "version": "3.7.6"
  }
 },
 "nbformat": 4,
 "nbformat_minor": 4
}
