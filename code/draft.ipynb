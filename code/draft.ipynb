{
 "cells": [
  {
   "cell_type": "markdown",
   "metadata": {
    "Collapsed": "false",
    "colab_type": "text",
    "id": "Fw8jxgfdM6HK"
   },
   "source": [
    "# DS-GA 1003 Course Project Skeleton Code\n"
   ]
  },
  {
   "cell_type": "code",
   "execution_count": null,
   "metadata": {
    "Collapsed": "false",
    "colab": {},
    "colab_type": "code",
    "id": "XhL6183rhSLG"
   },
   "outputs": [],
   "source": [
    "import pandas as pd\n",
    "import numpy as np\n",
    "import matplotlib.pyplot as plt\n",
    "from datetime import datetime"
   ]
  },
  {
   "cell_type": "markdown",
   "metadata": {
    "Collapsed": "false",
    "colab_type": "text",
    "id": "ls7pC733IcLd"
   },
   "source": [
    "### Parse Nation-wide Data"
   ]
  },
  {
   "cell_type": "code",
   "execution_count": null,
   "metadata": {
    "Collapsed": "false",
    "colab": {
     "base_uri": "https://localhost:8080/",
     "height": 128
    },
    "colab_type": "code",
    "id": "3XfkCpbs9yDq",
    "outputId": "965f89c9-c1b0-46bf-afed-e808965d161d"
   },
   "outputs": [
    {
     "name": "stdout",
     "output_type": "stream",
     "text": [
      "Go to this URL in a browser: https://accounts.google.com/o/oauth2/auth?client_id=947318989803-6bn6qk8qdgf4n4g3pfee6491hc0brc4i.apps.googleusercontent.com&redirect_uri=urn%3aietf%3awg%3aoauth%3a2.0%3aoob&response_type=code&scope=email%20https%3a%2f%2fwww.googleapis.com%2fauth%2fdocs.test%20https%3a%2f%2fwww.googleapis.com%2fauth%2fdrive%20https%3a%2f%2fwww.googleapis.com%2fauth%2fdrive.photos.readonly%20https%3a%2f%2fwww.googleapis.com%2fauth%2fpeopleapi.readonly\n",
      "\n",
      "Enter your authorization code:\n",
      "··········\n",
      "Mounted at /content/drive\n"
     ]
    }
   ],
   "source": [
    "from google.colab import drive\n",
    "drive.mount('/content/drive')"
   ]
  },
  {
   "cell_type": "code",
   "execution_count": null,
   "metadata": {
    "Collapsed": "false",
    "colab": {},
    "colab_type": "code",
    "id": "8jqj0oLGuxzw"
   },
   "outputs": [],
   "source": [
    "# Parse data in the state\n",
    "def parse_national_data(file_path):\n",
    "    dataFrame = pd.read_csv(file_path)\n",
    "    cases_nation = dataFrame[['date','positive','recovered','death','positiveIncrease']]\n",
    "    cases_nation = cases_nation.fillna(0)\n",
    "    active = cases_nation['positive']-cases_nation['recovered']-cases_nation['death']\n",
    "    cases_nation = cases_nation.assign(active=list(active))\n",
    "    cases_nation.to_csv('USA.csv')"
   ]
  },
  {
   "cell_type": "code",
   "execution_count": null,
   "metadata": {
    "Collapsed": "false",
    "colab": {},
    "colab_type": "code",
    "id": "hUJjugvfvC-N"
   },
   "outputs": [],
   "source": [
    "file_path = '/content/drive/My Drive/ML final proj/covid19-in-usa/us_covid19_daily.csv'\n",
    "parse_national_data(file_path)"
   ]
  },
  {
   "cell_type": "markdown",
   "metadata": {
    "Collapsed": "false",
    "colab_type": "text",
    "id": "9wEz_laAHhf2"
   },
   "source": [
    "### Parse States Data"
   ]
  },
  {
   "cell_type": "code",
   "execution_count": null,
   "metadata": {
    "Collapsed": "false",
    "colab": {},
    "colab_type": "code",
    "id": "37k2R-Z8EN2S"
   },
   "outputs": [],
   "source": [
    "# Parse data in each state\n",
    "def parse_states_data(file_path):\n",
    "    dataFrame = pd.read_csv(file_path)\n",
    "    col_list = ['date','state','positive','recovered','death','positiveIncrease']\n",
    "\n",
    "    def get_cases(dataFrame,col_list):\n",
    "        cases = dataFrame[col_list]\n",
    "        return cases\n",
    "\n",
    "    def get_states(cases):\n",
    "        states = set(cases['state'])\n",
    "        sorted(states, key= lambda x: x.lower())\n",
    "        return states\n",
    "\n",
    "    def construct_csv(states,cases):\n",
    "        for state in states:\n",
    "            state_case = cases[cases['state'] == state]\n",
    "            state_case.reset_index(drop=True,inplace=True)\n",
    "            state_case = state_case.fillna(0)\n",
    "            active = state_case['positive']-state_case['recovered']-state_case['death']\n",
    "            state_case = state_case.assign(active=list(active))\n",
    "            state_case.to_csv('{state_name}.csv'.format(state_name = state),\n",
    "                            index=True)\n",
    "            \n",
    "    cases_states = get_cases(dataFrame,col_list)\n",
    "    states = get_states(cases_states)\n",
    "    construct_csv(states,cases_states)"
   ]
  },
  {
   "cell_type": "code",
   "execution_count": null,
   "metadata": {
    "Collapsed": "false",
    "colab": {},
    "colab_type": "code",
    "id": "OQC6vF2xGe9E"
   },
   "outputs": [],
   "source": [
    "file_path = '/content/drive/My Drive/ML final proj/covid19-in-usa/us_states_covid19_daily.csv'\n",
    "parse_states_data(file_path)"
   ]
  },
  {
   "cell_type": "markdown",
   "metadata": {
    "Collapsed": "false",
    "colab_type": "text",
    "id": "LmmjPmh9Jn3U"
   },
   "source": [
    "### data visualization"
   ]
  },
  {
   "cell_type": "code",
   "execution_count": null,
   "metadata": {
    "Collapsed": "false",
    "colab": {},
    "colab_type": "code",
    "id": "qJwXG5D7Td8y"
   },
   "outputs": [],
   "source": [
    "# convret '2020xxxx' to 'year-mo-dy'\n",
    "def convert_date(date):\n",
    "    date_time = []\n",
    "    for d in date:\n",
    "        year = str(d)[0:4]\n",
    "        month = str(d)[4:6]\n",
    "        day = str(d)[6:8]\n",
    "        time = datetime(year=int(year), month=int(month), day=int(day))\n",
    "        date_time.append(time)\n",
    "    return date_time\n",
    "\n",
    "# data visualization\n",
    "def visualization(state):\n",
    "    file_path = '{}.csv'.format(state)\n",
    "    data = pd.read_csv(file_path)\n",
    "\n",
    "    date = data['date']\n",
    "    positive = data['positive']\n",
    "    active = data['active']\n",
    "    increase = data['positiveIncrease']\n",
    "\n",
    "    date_time = convert_date(date)\n",
    "    \n",
    "    fig = plt.figure(figsize=(12,8))\n",
    "    ax1 = fig.add_subplot()\n",
    "    ax1.plot(date_time, positive, 'xkcd:orange')\n",
    "    ax1.plot(date_time, active, 'xkcd:maroon')\n",
    "    ax1.set_xlabel('time (s)')\n",
    "    ax1.set_ylabel('cases')\n",
    "    ax1.legend(['positive','active'])\n",
    "    ax1.grid(True)\n",
    "    ax1.set_title(state)\n",
    "\n",
    "    ax2 = ax1.twinx()\n",
    "    ax2.plot(date_time, increase, '.',color='xkcd:violet')\n",
    "    ax2.set_ylabel('increase')\n",
    "    ax2.legend(['incerase'],loc='lower right')\n",
    "\n",
    "    fig.tight_layout()\n",
    "    plt.show()"
   ]
  },
  {
   "cell_type": "code",
   "execution_count": 15,
   "metadata": {
    "Collapsed": "false",
    "colab": {
     "base_uri": "https://localhost:8080/",
     "height": 603
    },
    "colab_type": "code",
    "id": "vZjUFYCZbXSu",
    "outputId": "63f99ae0-5e7d-4542-ba4d-ee3af7ff2489"
   },
   "outputs": [
    {
     "name": "stdout",
     "output_type": "stream",
     "text": [
      "NY\n"
     ]
    },
    {
     "data": {
      "image/png": "[encoded data removed]",
      "text/plain": [
       "<Figure size 864x576 with 2 Axes>"
      ]
     },
     "metadata": {
      "needs_background": "light",
      "tags": []
     },
     "output_type": "display_data"
    }
   ],
   "source": [
    "state = input()\n",
    "visualization(state)"
   ]
  },
  {
   "cell_type": "markdown",
   "metadata": {
    "Collapsed": "false",
    "colab_type": "text",
    "id": "vrrAcHUKVfzK"
   },
   "source": [
    "### Fetch ngram labels from data\n"
   ]
  },
  {
   "cell_type": "code",
   "execution_count": null,
   "metadata": {
    "Collapsed": "false",
    "colab": {
     "base_uri": "https://localhost:8080/",
     "height": 892
    },
    "colab_type": "code",
    "id": "iJZAGeSei8M8",
    "outputId": "13a960a7-c3c0-412f-98eb-a13caf3c5cff"
   },
   "outputs": [
    {
     "name": "stdout",
     "output_type": "stream",
     "text": [
      "Collecting pytrends\n",
      "  Downloading https://files.pythonhosted.org/packages/74/a4/c1b1242be7d31650c6d9128a776c753db18f0e83290aaea0dd80dd31374b/pytrends-4.7.2.tar.gz\n",
      "Requirement already satisfied: requests in /usr/local/lib/python3.6/dist-packages (from pytrends) (2.23.0)\n",
      "Requirement already satisfied: pandas in /usr/local/lib/python3.6/dist-packages (from pytrends) (1.0.3)\n",
      "Requirement already satisfied: lxml in /usr/local/lib/python3.6/dist-packages (from pytrends) (4.2.6)\n",
      "Requirement already satisfied: certifi>=2017.4.17 in /usr/local/lib/python3.6/dist-packages (from requests->pytrends) (2020.4.5.1)\n",
      "Requirement already satisfied: urllib3!=1.25.0,!=1.25.1,<1.26,>=1.21.1 in /usr/local/lib/python3.6/dist-packages (from requests->pytrends) (1.24.3)\n",
      "Requirement already satisfied: idna<3,>=2.5 in /usr/local/lib/python3.6/dist-packages (from requests->pytrends) (2.9)\n",
      "Requirement already satisfied: chardet<4,>=3.0.2 in /usr/local/lib/python3.6/dist-packages (from requests->pytrends) (3.0.4)\n",
      "Requirement already satisfied: python-dateutil>=2.6.1 in /usr/local/lib/python3.6/dist-packages (from pandas->pytrends) (2.8.1)\n",
      "Requirement already satisfied: numpy>=1.13.3 in /usr/local/lib/python3.6/dist-packages (from pandas->pytrends) (1.18.4)\n",
      "Requirement already satisfied: pytz>=2017.2 in /usr/local/lib/python3.6/dist-packages (from pandas->pytrends) (2018.9)\n",
      "Requirement already satisfied: six>=1.5 in /usr/local/lib/python3.6/dist-packages (from python-dateutil>=2.6.1->pandas->pytrends) (1.12.0)\n",
      "Building wheels for collected packages: pytrends\n",
      "  Building wheel for pytrends (setup.py) ... \u001b[?25l\u001b[?25hdone\n",
      "  Created wheel for pytrends: filename=pytrends-4.7.2-cp36-none-any.whl size=14261 sha256=220ff74b362404df9eded0e1ce098fe6626d293730572ca0871493b972fdd8a0\n",
      "  Stored in directory: /root/.cache/pip/wheels/64/ae/af/51d48fbbca0563036c6f80999b7ce3f097fa591fd165047baf\n",
      "Successfully built pytrends\n",
      "Installing collected packages: pytrends\n",
      "Successfully installed pytrends-4.7.2\n",
      "Collecting git+https://github.com/GeneralMills/pytrends\n",
      "  Cloning https://github.com/GeneralMills/pytrends to /tmp/pip-req-build-m6v36ev_\n",
      "  Running command git clone -q https://github.com/GeneralMills/pytrends /tmp/pip-req-build-m6v36ev_\n",
      "Requirement already satisfied, skipping upgrade: requests in /usr/local/lib/python3.6/dist-packages (from pytrends==4.7.2) (2.23.0)\n",
      "Requirement already satisfied, skipping upgrade: pandas>=0.25 in /usr/local/lib/python3.6/dist-packages (from pytrends==4.7.2) (1.0.3)\n",
      "Requirement already satisfied, skipping upgrade: lxml in /usr/local/lib/python3.6/dist-packages (from pytrends==4.7.2) (4.2.6)\n",
      "Requirement already satisfied, skipping upgrade: certifi>=2017.4.17 in /usr/local/lib/python3.6/dist-packages (from requests->pytrends==4.7.2) (2020.4.5.1)\n",
      "Requirement already satisfied, skipping upgrade: urllib3!=1.25.0,!=1.25.1,<1.26,>=1.21.1 in /usr/local/lib/python3.6/dist-packages (from requests->pytrends==4.7.2) (1.24.3)\n",
      "Requirement already satisfied, skipping upgrade: idna<3,>=2.5 in /usr/local/lib/python3.6/dist-packages (from requests->pytrends==4.7.2) (2.9)\n",
      "Requirement already satisfied, skipping upgrade: chardet<4,>=3.0.2 in /usr/local/lib/python3.6/dist-packages (from requests->pytrends==4.7.2) (3.0.4)\n",
      "Requirement already satisfied, skipping upgrade: numpy>=1.13.3 in /usr/local/lib/python3.6/dist-packages (from pandas>=0.25->pytrends==4.7.2) (1.18.4)\n",
      "Requirement already satisfied, skipping upgrade: pytz>=2017.2 in /usr/local/lib/python3.6/dist-packages (from pandas>=0.25->pytrends==4.7.2) (2018.9)\n",
      "Requirement already satisfied, skipping upgrade: python-dateutil>=2.6.1 in /usr/local/lib/python3.6/dist-packages (from pandas>=0.25->pytrends==4.7.2) (2.8.1)\n",
      "Requirement already satisfied, skipping upgrade: six>=1.5 in /usr/local/lib/python3.6/dist-packages (from python-dateutil>=2.6.1->pandas>=0.25->pytrends==4.7.2) (1.12.0)\n",
      "Building wheels for collected packages: pytrends\n",
      "  Building wheel for pytrends (setup.py) ... \u001b[?25l\u001b[?25hdone\n",
      "  Created wheel for pytrends: filename=pytrends-4.7.2-cp36-none-any.whl size=14948 sha256=e0e29d7f486d7a336ec1a392245fe2ad43230e2ed0930709bee9c47e3abae25a\n",
      "  Stored in directory: /tmp/pip-ephem-wheel-cache-0oh0jyii/wheels/f6/49/f7/a4785ff2079f1cc793186a60d40863c5d4ee9863e2b315a0bd\n",
      "Successfully built pytrends\n",
      "Installing collected packages: pytrends\n",
      "Successfully installed pytrends-4.7.2\n",
      "Requirement already satisfied: nltk in /usr/local/lib/python3.6/dist-packages (3.2.5)\n",
      "Requirement already satisfied: six in /usr/local/lib/python3.6/dist-packages (from nltk) (1.12.0)\n",
      "Requirement already satisfied: textblob in /usr/local/lib/python3.6/dist-packages (0.15.3)\n",
      "Requirement already satisfied: nltk>=3.1 in /usr/local/lib/python3.6/dist-packages (from textblob) (3.2.5)\n",
      "Requirement already satisfied: six in /usr/local/lib/python3.6/dist-packages (from nltk>=3.1->textblob) (1.12.0)\n",
      "Requirement already satisfied: tqdm in /usr/local/lib/python3.6/dist-packages (4.41.1)\n"
     ]
    }
   ],
   "source": [
    "!pip install pytrends\n",
    "!pip install --upgrade --user git+https://github.com/GeneralMills/pytrends\n",
    "!pip install nltk\n",
    "!pip install textblob\n",
    "!pip install tqdm"
   ]
  },
  {
   "cell_type": "code",
   "execution_count": null,
   "metadata": {
    "Collapsed": "false",
    "colab": {},
    "colab_type": "code",
    "id": "yWZPE2NdwQJu"
   },
   "outputs": [],
   "source": [
    "import os\n",
    "import numpy as np\n",
    "import pandas as pd\n",
    "import json\n",
    "import nltk\n",
    "import time\n",
    "from tqdm import tqdm\n",
    "from textblob import TextBlob\n",
    "from pytrends.request import TrendReq"
   ]
  },
  {
   "cell_type": "code",
   "execution_count": null,
   "metadata": {
    "Collapsed": "false",
    "colab": {},
    "colab_type": "code",
    "id": "mTatL7HxwccP"
   },
   "outputs": [],
   "source": [
    "# TERM_PATH = \"./frequent_terms.csv\"\n",
    "# BIGRAM_PATH = \"./frequent_bigrams.csv\"\n",
    "# TRIGRAM_PATH = \"./frequent_trigrams.csv\"\n",
    "TERM_PATH = \"/content/drive/My Drive/ML final proj/frequent_terms.csv\"\n",
    "BIGRAM_PATH = \"/content/drive/My Drive/ML final proj/frequent_bigrams.csv\"\n",
    "TRIGRAM_PATH = \"/content/drive/My Drive/ML final proj/frequent_trigrams.csv\""
   ]
  },
  {
   "cell_type": "code",
   "execution_count": null,
   "metadata": {
    "Collapsed": "false",
    "colab": {},
    "colab_type": "code",
    "id": "FbUZdDywwehI"
   },
   "outputs": [],
   "source": [
    "num_features = 50\n",
    "\n",
    "terms_data = pd.read_csv(TERM_PATH)\n",
    "terms = list(terms_data['term'])\n",
    "counts = list(terms_data['counts'])\n",
    "result1 = pd.DataFrame(np.array([terms, counts]).T, columns=['keyword', 'count'])[:num_features]\n",
    "\n",
    "bigram_data = pd.read_csv(BIGRAM_PATH)\n",
    "bigrams = list(bigram_data['gram'])\n",
    "counts = list(bigram_data['counts'])\n",
    "result2 = pd.DataFrame(np.array([bigrams, counts]).T, columns=['keyword', 'count'])[:num_features]\n",
    "\n",
    "trigram_data = pd.read_csv(TRIGRAM_PATH)\n",
    "trigrams = list(trigram_data['gram'])\n",
    "counts = list(trigram_data['counts'])\n",
    "result3 = pd.DataFrame(np.array([trigrams, counts]).T, columns=['keyword', 'count'])[:num_features]\n",
    "\n",
    "keywords = pd.concat([result1, result2, result3], ignore_index=True)\n",
    "# keywords = pd.concat([result2, result3], ignore_index=True)"
   ]
  },
  {
   "cell_type": "code",
   "execution_count": null,
   "metadata": {
    "Collapsed": "false",
    "colab": {
     "base_uri": "https://localhost:8080/",
     "height": 407
    },
    "colab_type": "code",
    "id": "GtyFvjmJwyui",
    "outputId": "bbf328e4-2e24-4777-8d31-43a23f310958"
   },
   "outputs": [
    {
     "data": {
      "text/html": [
       "<div>\n",
       "<style scoped>\n",
       "    .dataframe tbody tr th:only-of-type {\n",
       "        vertical-align: middle;\n",
       "    }\n",
       "\n",
       "    .dataframe tbody tr th {\n",
       "        vertical-align: top;\n",
       "    }\n",
       "\n",
       "    .dataframe thead th {\n",
       "        text-align: right;\n",
       "    }\n",
       "</style>\n",
       "<table border=\"1\" class=\"dataframe\">\n",
       "  <thead>\n",
       "    <tr style=\"text-align: right;\">\n",
       "      <th></th>\n",
       "      <th>keyword</th>\n",
       "      <th>count</th>\n",
       "    </tr>\n",
       "  </thead>\n",
       "  <tbody>\n",
       "    <tr>\n",
       "      <th>0</th>\n",
       "      <td>coronavirus</td>\n",
       "      <td>28120854</td>\n",
       "    </tr>\n",
       "    <tr>\n",
       "      <th>1</th>\n",
       "      <td>covid19</td>\n",
       "      <td>8630451</td>\n",
       "    </tr>\n",
       "    <tr>\n",
       "      <th>2</th>\n",
       "      <td>covid</td>\n",
       "      <td>8171888</td>\n",
       "    </tr>\n",
       "    <tr>\n",
       "      <th>3</th>\n",
       "      <td>19</td>\n",
       "      <td>7903151</td>\n",
       "    </tr>\n",
       "    <tr>\n",
       "      <th>4</th>\n",
       "      <td>nan</td>\n",
       "      <td>3888201</td>\n",
       "    </tr>\n",
       "    <tr>\n",
       "      <th>...</th>\n",
       "      <td>...</td>\n",
       "      <td>...</td>\n",
       "    </tr>\n",
       "    <tr>\n",
       "      <th>145</th>\n",
       "      <td>penyebaran covid 19</td>\n",
       "      <td>36072</td>\n",
       "    </tr>\n",
       "    <tr>\n",
       "      <th>146</th>\n",
       "      <td>covid 19 testing</td>\n",
       "      <td>35640</td>\n",
       "    </tr>\n",
       "    <tr>\n",
       "      <th>147</th>\n",
       "      <td>deliver copy officials</td>\n",
       "      <td>35454</td>\n",
       "    </tr>\n",
       "    <tr>\n",
       "      <th>148</th>\n",
       "      <td>copy officials last</td>\n",
       "      <td>35452</td>\n",
       "    </tr>\n",
       "    <tr>\n",
       "      <th>149</th>\n",
       "      <td>officials last delivered</td>\n",
       "      <td>35452</td>\n",
       "    </tr>\n",
       "  </tbody>\n",
       "</table>\n",
       "<p>150 rows × 2 columns</p>\n",
       "</div>"
      ],
      "text/plain": [
       "                      keyword     count\n",
       "0                 coronavirus  28120854\n",
       "1                     covid19   8630451\n",
       "2                       covid   8171888\n",
       "3                          19   7903151\n",
       "4                         nan   3888201\n",
       "..                        ...       ...\n",
       "145       penyebaran covid 19     36072\n",
       "146          covid 19 testing     35640\n",
       "147    deliver copy officials     35454\n",
       "148       copy officials last     35452\n",
       "149  officials last delivered     35452\n",
       "\n",
       "[150 rows x 2 columns]"
      ]
     },
     "execution_count": 18,
     "metadata": {
      "tags": []
     },
     "output_type": "execute_result"
    }
   ],
   "source": [
    "keywords"
   ]
  },
  {
   "cell_type": "code",
   "execution_count": null,
   "metadata": {
    "Collapsed": "false",
    "colab": {},
    "colab_type": "code",
    "id": "ETG3KdTMwz_c"
   },
   "outputs": [],
   "source": [
    "ptr = TrendReq(hl='en-US', tz=300, retries=3, backoff_factor=10) # tz: time-zone offset, 300 for EST"
   ]
  },
  {
   "cell_type": "code",
   "execution_count": null,
   "metadata": {
    "Collapsed": "false",
    "colab": {},
    "colab_type": "code",
    "id": "V5Dqrrlsw5VF"
   },
   "outputs": [],
   "source": [
    "kw_list = list(keywords[\"keyword\"])[0]\n",
    "ptr.build_payload([kw_list], cat=0, timeframe='2020-01-21 2020-05-1', geo='', gprop='')\n",
    "result = ptr.interest_over_time().drop(columns=['isPartial'])"
   ]
  },
  {
   "cell_type": "code",
   "execution_count": null,
   "metadata": {
    "Collapsed": "false",
    "colab": {},
    "colab_type": "code",
    "id": "Dx_UZN1qw6g0"
   },
   "outputs": [],
   "source": [
    "t = tqdm(list(keywords[\"keyword\"])[1:])\n",
    "for kw in t:\n",
    "    t.set_description(desc=\"Fetching...\")\n",
    "    del(ptr)\n",
    "    time.sleep(0.5)\n",
    "    ptr = TrendReq(hl='en-US', tz=300, retries=3, backoff_factor=10) # tz: time-zone offset, 300 for EST\n",
    "    ptr.build_payload([kw], cat=0, timeframe='2020-01-21 2020-05-1', geo='', gprop='')\n",
    "    try:\n",
    "        result = pd.concat([result, ptr.interest_over_time().drop(columns='isPartial')], axis=1)\n",
    "    except KeyError:\n",
    "        result = pd.concat([result, ptr.interest_over_time()], axis=1)"
   ]
  },
  {
   "cell_type": "code",
   "execution_count": null,
   "metadata": {
    "Collapsed": "false",
    "colab": {},
    "colab_type": "code",
    "id": "2vrZMUSl8DDE"
   },
   "outputs": [],
   "source": [
    "result"
   ]
  },
  {
   "cell_type": "code",
   "execution_count": null,
   "metadata": {
    "Collapsed": "false",
    "colab": {},
    "colab_type": "code",
    "id": "J5SAetHtw8yy"
   },
   "outputs": [],
   "source": [
    "result.to_csv(\"./ngrams_by_date_90.csv\")"
   ]
  },
  {
   "cell_type": "markdown",
   "metadata": {
    "Collapsed": "false",
    "colab_type": "text",
    "id": "cQ-tpRpQU5tr"
   },
   "source": [
    "### Training & Validation Data"
   ]
  },
  {
   "cell_type": "code",
   "execution_count": 1,
   "metadata": {
    "Collapsed": "false",
    "colab": {},
    "colab_type": "code",
    "id": "fFXW1qMUaWKp"
   },
   "outputs": [],
   "source": [
    "import pandas as pd\n",
    "import numpy as np\n",
    "import scipy\n",
    "from sklearn.model_selection import train_test_split\n",
    "from sklearn.neural_network import MLPRegressor\n",
    "from sklearn.linear_model import Lasso\n",
    "from sklearn.linear_model import ElasticNet\n",
    "import matplotlib.pyplot as plt"
   ]
  },
  {
   "cell_type": "code",
   "execution_count": 3,
   "metadata": {
    "Collapsed": "false",
    "colab": {},
    "colab_type": "code",
    "id": "o74MoMnp72ip"
   },
   "outputs": [],
   "source": [
    "# ngram_n = pd.read_csv(\"/content/drive/My Drive/ML final proj/keywords_30_US.csv\")\n",
    "# ngram_n.head(5)"
   ]
  },
  {
   "cell_type": "code",
   "execution_count": 4,
   "metadata": {
    "Collapsed": "false",
    "colab": {},
    "colab_type": "code",
    "id": "tBBBTEN-XIUu"
   },
   "outputs": [],
   "source": [
    "# df_matrix = ngram_n.drop(['date'], axis=1,inplace=False).to_numpy()\n",
    "# print(df_matrix)"
   ]
  },
  {
   "cell_type": "code",
   "execution_count": 5,
   "metadata": {
    "Collapsed": "false",
    "colab": {},
    "colab_type": "code",
    "id": "cX2j8fPO6Ypa"
   },
   "outputs": [],
   "source": [
    "# ###\n",
    "# avg_date = 7"
   ]
  },
  {
   "cell_type": "code",
   "execution_count": 6,
   "metadata": {
    "Collapsed": "false",
    "colab": {},
    "colab_type": "code",
    "id": "PkM0s2Fk1AGs"
   },
   "outputs": [],
   "source": [
    "# # Average with date\n",
    "# def avg_data_sample(dataFrame, avg_date=7):\n",
    "#     df_matrix = dataFrame.drop(['date'], axis=1,inplace=False).to_numpy()\n",
    "\n",
    "#     d_avg = np.zeros((df_matrix.shape[0]-avg_date,df_matrix.shape[1]))\n",
    "#     for i in range(len(d_avg)):\n",
    "#         d_avg[i] = np.mean(df_matrix[i:i+avg_date],axis=0)\n",
    "#     return d_avg"
   ]
  },
  {
   "cell_type": "code",
   "execution_count": 7,
   "metadata": {
    "Collapsed": "false",
    "colab": {},
    "colab_type": "code",
    "id": "71yKrMFV-tRI"
   },
   "outputs": [],
   "source": [
    "# # Concatenate with date\n",
    "# def concat_data_sample(dataFrame, concat_date=7):\n",
    "#     df_matrix = dataFrame.drop(['date'], axis=1,inplace=False).to_numpy()\n",
    "\n",
    "#     d_concat =  np.zeros((df_matrix.shape[0]-avg_date,df_matrix.shape[1]*concat_date))\n",
    "#     for i in range(len(d_concat)):\n",
    "#         d_concat[i] = np.ndarray.flatten(df_matrix[i:i+concat_date])\n",
    "#     return d_concat"
   ]
  },
  {
   "cell_type": "code",
   "execution_count": 8,
   "metadata": {
    "Collapsed": "false",
    "colab": {},
    "colab_type": "code",
    "id": "vHTpdSebQ_IW"
   },
   "outputs": [],
   "source": [
    "# df_concat = concat_data_sample(ngram_n, concat_date=3)\n",
    "# print(df_concat)"
   ]
  },
  {
   "cell_type": "code",
   "execution_count": 9,
   "metadata": {
    "Collapsed": "false",
    "colab": {},
    "colab_type": "code",
    "id": "VgrmOgc22Ik5"
   },
   "outputs": [],
   "source": [
    "# df_matrix = avg_data_sample(ngram_n, avg_date=avg_date)\n",
    "# print(df_matrix)"
   ]
  },
  {
   "cell_type": "code",
   "execution_count": 10,
   "metadata": {
    "Collapsed": "false",
    "colab": {},
    "colab_type": "code",
    "id": "-jY8D8iVb1gk"
   },
   "outputs": [],
   "source": [
    "# cases_data = pd.read_csv('USA.csv')\n",
    "# cases_data.head(10)"
   ]
  },
  {
   "cell_type": "code",
   "execution_count": 11,
   "metadata": {
    "Collapsed": "false",
    "colab": {},
    "colab_type": "code",
    "id": "9J6_-bkrxThA"
   },
   "outputs": [],
   "source": [
    "# def avg_target_labels(dataFrame, tag=None, avg_date=7, delay_date=7):\n",
    "#     if tag is None:\n",
    "#         tag = 'positiveIncrease'\n",
    "#     positive = dataFrame[tag]\n",
    "\n",
    "#     d_avg_rev = np.zeros((positive.shape[0]-avg_date))\n",
    "#     for i in range(len(d_avg_rev)):\n",
    "#         d_avg_rev[i] = np.mean(positive[i:i+avg_date])\n",
    "\n",
    "#     d_avg = np.flipud(d_avg_rev)[1:]\n",
    "#     # Delay by date\n",
    "#     d_avg = d_avg[delay_date:]\n",
    "#     return d_avg"
   ]
  },
  {
   "cell_type": "code",
   "execution_count": 12,
   "metadata": {
    "Collapsed": "false",
    "colab": {},
    "colab_type": "code",
    "id": "1kKqkB7oy6xh"
   },
   "outputs": [],
   "source": [
    "# # z-score Standrization\n",
    "# # Standardrize mean-matrix\n",
    "# train_matrix = scipy.stats.zscore(df_matrix, axis=1)\n",
    "# # Standardrize concat-matrix\n",
    "# # train_matrix = scipy.stats.zscore(df_concat, axis=1)\n",
    "\n",
    "# # labels\n",
    "# d_avg = avg_target_labels(dataFrame=cases_data, avg_date=avg_date)"
   ]
  },
  {
   "cell_type": "code",
   "execution_count": 2,
   "metadata": {
    "Collapsed": "false",
    "colab": {},
    "colab_type": "code",
    "id": "m2mQhtevsHBT"
   },
   "outputs": [],
   "source": [
    "class parse_data:\n",
    "\n",
    "    def __init__(self, avg_date=7, concat_date=7, delay_date=7):\n",
    "        self.avg_date = avg_date\n",
    "        self.concat_date = concat_date\n",
    "        self.delay_date = delay_date\n",
    "\n",
    "    def parse_file(self,keywords_path, cases_path):\n",
    "        self.keywords = pd.read_csv(keywords_path)\n",
    "        self.cases = pd.read_csv(cases_path)\n",
    "        return self\n",
    "\n",
    "    # Average with date\n",
    "    def process_data_sample(self, process='mean'):\n",
    "        matrix = self.keywords.drop(['date'], axis=1,inplace=False).to_numpy()\n",
    "\n",
    "        if process == 'mean':\n",
    "            avg_mtx = np.zeros((matrix.shape[0]-self.avg_date,matrix.shape[1]))\n",
    "            for i in range(len(d_avg)):\n",
    "                avg_mtx[i] = np.mean(matrix[i:i+self.avg_date],axis=0)\n",
    "            # Standardrize mean-matrix\n",
    "            sample_matrix = scipy.stats.zscore(avg_mtx, axis=1)\n",
    "        elif process == 'concat':\n",
    "            concat_mtx =  np.zeros((matrix.shape[0]-self.concat_date,matrix.shape[1]*self.concat_date))\n",
    "            for i in range(len(d_concat)):\n",
    "                concat_mtx[i] = np.ndarray.flatten(df_matrix[i:i+self.concat_date])\n",
    "            sample_matrix = scipy.stats.zscore(concat_mtx, axis=1)\n",
    "        return sample_matrix\n",
    "\n",
    "    def process_labels(self, tag=None):\n",
    "        if tag is None:\n",
    "            tag = 'positiveIncrease'\n",
    "        labels = self.cases[tag]\n",
    "        avg_array_rev = np.zeros((labels.shape[0]-self.avg_date))\n",
    "        for i in range(len(avg_array_rev)):\n",
    "            avg_array_rev[i] = np.mean(labels[i:i+self.avg_date])\n",
    "        label_array = np.flipud(avg_array_rev)[self.delay_date+1:]\n",
    "        return label_array\n"
   ]
  },
  {
   "cell_type": "code",
   "execution_count": 3,
   "metadata": {
    "Collapsed": "false",
    "colab": {},
    "colab_type": "code",
    "id": "wT6A-AD507Ps"
   },
   "outputs": [],
   "source": [
    "# file_parser\n",
    "parser = parse_data()\n",
    "parser.parse_file(keywords_path=\"../data/trends/keywords_30_US.csv\",cases_path='../data/covid19-in-usa/us_covid19_daily.csv')\n",
    "d_avg = parser.process_labels()\n",
    "train_matrix = parser.process_data_sample()\n",
    "\n",
    "# Train test data split (test data is the latest data theoretically)\n",
    "X_train, X_test, y_train, y_test = train_test_split(train_matrix[train_matrix.shape[0]-d_avg.shape[0]:], \n",
    "                                                    d_avg, test_size=0.15, shuffle=False) "
   ]
  },
  {
   "cell_type": "code",
   "execution_count": 4,
   "metadata": {
    "Collapsed": "false",
    "colab": {
     "base_uri": "https://localhost:8080/",
     "height": 181
    },
    "colab_type": "code",
    "id": "zGgZDdqhZDR9",
    "outputId": "9c54e7e6-dfb3-4d6a-bb50-bbc6beeb82f9"
   },
   "outputs": [
    {
     "name": "stdout",
     "output_type": "stream",
     "text": [
      "3603.312271786852\n",
      "-6.333771063948816\n",
      "[-4358.18299689 -5051.89847477 13738.73745429    -0.\n",
      " -3344.48804652 11004.26341285 -3818.5656024   -152.60082569\n",
      "     0.           414.24451376     0.           128.04021609\n",
      "   -51.67064552 -2887.77975861     0.         -2090.54939646\n",
      "   597.29701418     0.            -0.             0.\n",
      "  2756.97113861  4059.51611123  -890.84355443 -2068.9813699\n",
      "  1681.45944046 -3857.67037492   658.14644224]\n"
     ]
    }
   ],
   "source": [
    "# Lasso feature selection\n",
    "EN_reg = ElasticNet(alpha=1,l1_ratio=1.0,max_iter=15000)\n",
    "EN_reg.fit(X_train,y_train)\n",
    "\n",
    "pred_ELN = EN_reg.predict(X_test)\n",
    "diff = y_test-pred_ELN\n",
    "print(np.mean(abs(diff)))\n",
    "print(EN_reg.score(X_test,y_test))\n",
    "print(EN_reg.coef_)"
   ]
  },
  {
   "cell_type": "code",
   "execution_count": 26,
   "metadata": {
    "Collapsed": "false",
    "colab": {
     "base_uri": "https://localhost:8080/",
     "height": 128
    },
    "colab_type": "code",
    "id": "K1dgnUxCDwV0",
    "outputId": "bb41ab91-0430-4547-afa9-7e26d5b463a9"
   },
   "outputs": [
    {
     "name": "stdout",
     "output_type": "stream",
     "text": [
      "1358.6535996478337\n",
      "0.9999217800241338\n",
      "-0.40663298442331275\n"
     ]
    },
    {
     "name": "stderr",
     "output_type": "stream",
     "text": [
      "/opt/conda/lib/python3.7/site-packages/sklearn/neural_network/_multilayer_perceptron.py:571: ConvergenceWarning: Stochastic Optimizer: Maximum iterations (20000) reached and the optimization hasn't converged yet.\n",
      "  % self.max_iter, ConvergenceWarning)\n"
     ]
    }
   ],
   "source": [
    "# MLP Neural Network model\n",
    "MLP_regressor = MLPRegressor(hidden_layer_sizes=(20,20,5),alpha=1,\n",
    "                             learning_rate_init=0.01,max_iter=20000,n_iter_no_change=100)\n",
    "MLP_regressor.fit(X_train,y_train)\n",
    "\n",
    "pred_MLP = MLP_regressor.predict(X_test)\n",
    "diff = y_test-pred_MLP\n",
    "print(np.mean(abs(diff)))\n",
    "print(MLP_regressor.score(X_train,y_train))\n",
    "print(MLP_regressor.score(X_test,y_test))"
   ]
  },
  {
   "cell_type": "code",
   "execution_count": 27,
   "metadata": {
    "Collapsed": "false",
    "colab": {
     "base_uri": "https://localhost:8080/",
     "height": 517
    },
    "colab_type": "code",
    "id": "-nlsTQ0cgA3P",
    "outputId": "cd8a851e-8adc-49e5-9a18-38877d853339"
   },
   "outputs": [
    {
     "data": {
      "text/plain": [
       "Text(0.5, 1.0, 'new increase pred in 4/19-5/2')"
      ]
     },
     "execution_count": 27,
     "metadata": {},
     "output_type": "execute_result"
    },
    {
     "data": {
      "image/png": "[encoded data removed]",
      "text/plain": [
       "<Figure size 864x576 with 1 Axes>"
      ]
     },
     "metadata": {
      "needs_background": "light"
     },
     "output_type": "display_data"
    }
   ],
   "source": [
    "fig = plt.figure(figsize=(12,8))\n",
    "ax1 = fig.add_subplot()\n",
    "ax1.plot(pred_MLP, 'xkcd:orange')\n",
    "ax1.plot(pred_ELN, 'xkcd:violet')\n",
    "ax1.plot(y_test, 'xkcd:maroon')\n",
    "ax1.set_ylabel('increase')\n",
    "ax1.legend(['pred_MLP','pred_ELN','ground truth'])\n",
    "ax1.grid(True)\n",
    "ax1.set_title('new increase pred in 4/19-5/2')"
   ]
  },
  {
   "cell_type": "code",
   "execution_count": null,
   "metadata": {
    "Collapsed": "false"
   },
   "outputs": [],
   "source": []
  }
 ],
 "metadata": {
  "colab": {
   "collapsed_sections": [],
   "name": "1003Project.ipynb",
   "provenance": []
  },
  "kernelspec": {
   "display_name": "Python 3",
   "language": "python",
   "name": "python3"
  },
  "language_info": {
   "codemirror_mode": {
    "name": "ipython",
    "version": 3
   },
   "file_extension": ".py",
   "mimetype": "text/x-python",
   "name": "python",
   "nbconvert_exporter": "python",
   "pygments_lexer": "ipython3",
   "version": "3.7.6"
  }
 },
 "nbformat": 4,
 "nbformat_minor": 4
}
