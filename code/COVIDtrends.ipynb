{
 "cells": [
  {
   "cell_type": "code",
   "execution_count": 1,
   "metadata": {
    "Collapsed": "false"
   },
   "outputs": [],
   "source": [
    "import os\n",
    "import scipy\n",
    "import numpy as np\n",
    "import pandas as pd\n",
    "import matplotlib.pyplot as plt\n",
    "from sklearn.model_selection import train_test_split\n",
    "from sklearn.neural_network import MLPRegressor\n",
    "from sklearn.linear_model import Lasso\n",
    "from sklearn.linear_model import ElasticNet\n",
    "from keyword_fetcher import KeywordFetcher\n",
    "from data_parser import DataParser"
   ]
  },
  {
   "cell_type": "code",
   "execution_count": 2,
   "metadata": {
    "Collapsed": "false"
   },
   "outputs": [],
   "source": [
    "TERM_PATH = \"../data/frequent_terms.csv\"\n",
    "BIGRAM_PATH = \"../data/frequent_bigrams.csv\"\n",
    "TRIGRAM_PATH = \"../data/frequent_trigrams.csv\"\n",
    "US_DAILY_PATH = \"../data/covid19-in-usa/us_covid19_daily.csv\"\n",
    "STATES_DAILY_PATH = \"../data/covid19-in-usa/us_states_covid19_daily.csv\"\n",
    "REGION_LIST_PATH = \"../data/abbr-list.csv\"\n",
    "KW_30_US_PATH = \"../data/trends/keywords_30_US.csv\""
   ]
  },
  {
   "cell_type": "markdown",
   "metadata": {
    "Collapsed": "true"
   },
   "source": [
    "### Generate Keyword list"
   ]
  },
  {
   "cell_type": "code",
   "execution_count": 6,
   "metadata": {
    "Collapsed": "false"
   },
   "outputs": [],
   "source": [
    "kf = KeywordFetcher(\"../data/frequent_terms.csv\", \"../data/frequent_bigrams.csv\", \"../data/frequent_trigrams.csv\")\n",
    "kw = kf.generate_keyword_list(num_features=10)"
   ]
  },
  {
   "cell_type": "code",
   "execution_count": 7,
   "metadata": {
    "Collapsed": "false"
   },
   "outputs": [
    {
     "data": {
      "text/html": [
       "<div>\n",
       "<style scoped>\n",
       "    .dataframe tbody tr th:only-of-type {\n",
       "        vertical-align: middle;\n",
       "    }\n",
       "\n",
       "    .dataframe tbody tr th {\n",
       "        vertical-align: top;\n",
       "    }\n",
       "\n",
       "    .dataframe thead th {\n",
       "        text-align: right;\n",
       "    }\n",
       "</style>\n",
       "<table border=\"1\" class=\"dataframe\">\n",
       "  <thead>\n",
       "    <tr style=\"text-align: right;\">\n",
       "      <th></th>\n",
       "      <th>keyword</th>\n",
       "      <th>count</th>\n",
       "    </tr>\n",
       "  </thead>\n",
       "  <tbody>\n",
       "    <tr>\n",
       "      <th>0</th>\n",
       "      <td>coronavirus</td>\n",
       "      <td>28120854</td>\n",
       "    </tr>\n",
       "    <tr>\n",
       "      <th>1</th>\n",
       "      <td>covid19</td>\n",
       "      <td>8630451</td>\n",
       "    </tr>\n",
       "    <tr>\n",
       "      <th>2</th>\n",
       "      <td>covid</td>\n",
       "      <td>8171888</td>\n",
       "    </tr>\n",
       "    <tr>\n",
       "      <th>3</th>\n",
       "      <td>19</td>\n",
       "      <td>7903151</td>\n",
       "    </tr>\n",
       "    <tr>\n",
       "      <th>4</th>\n",
       "      <td>nan</td>\n",
       "      <td>3888201</td>\n",
       "    </tr>\n",
       "    <tr>\n",
       "      <th>5</th>\n",
       "      <td>people</td>\n",
       "      <td>2645140</td>\n",
       "    </tr>\n",
       "    <tr>\n",
       "      <th>6</th>\n",
       "      <td>via</td>\n",
       "      <td>2321653</td>\n",
       "    </tr>\n",
       "    <tr>\n",
       "      <th>7</th>\n",
       "      <td>china</td>\n",
       "      <td>2225140</td>\n",
       "    </tr>\n",
       "    <tr>\n",
       "      <th>8</th>\n",
       "      <td>amp</td>\n",
       "      <td>2143277</td>\n",
       "    </tr>\n",
       "    <tr>\n",
       "      <th>9</th>\n",
       "      <td>trump</td>\n",
       "      <td>2038513</td>\n",
       "    </tr>\n",
       "    <tr>\n",
       "      <th>10</th>\n",
       "      <td>covid 19</td>\n",
       "      <td>1857560</td>\n",
       "    </tr>\n",
       "    <tr>\n",
       "      <th>11</th>\n",
       "      <td>coronavirus outbreak</td>\n",
       "      <td>596717</td>\n",
       "    </tr>\n",
       "    <tr>\n",
       "      <th>12</th>\n",
       "      <td>coronavirus covid19</td>\n",
       "      <td>482416</td>\n",
       "    </tr>\n",
       "    <tr>\n",
       "      <th>13</th>\n",
       "      <td>coronavirus pandemic</td>\n",
       "      <td>424509</td>\n",
       "    </tr>\n",
       "    <tr>\n",
       "      <th>14</th>\n",
       "      <td>coronavirus cases</td>\n",
       "      <td>360891</td>\n",
       "    </tr>\n",
       "    <tr>\n",
       "      <th>15</th>\n",
       "      <td>covid19 coronavirus</td>\n",
       "      <td>344631</td>\n",
       "    </tr>\n",
       "    <tr>\n",
       "      <th>16</th>\n",
       "      <td>via youtube</td>\n",
       "      <td>319903</td>\n",
       "    </tr>\n",
       "    <tr>\n",
       "      <th>17</th>\n",
       "      <td>due coronavirus</td>\n",
       "      <td>256474</td>\n",
       "    </tr>\n",
       "    <tr>\n",
       "      <th>18</th>\n",
       "      <td>novel coronavirus</td>\n",
       "      <td>251207</td>\n",
       "    </tr>\n",
       "    <tr>\n",
       "      <th>19</th>\n",
       "      <td>new york</td>\n",
       "      <td>249719</td>\n",
       "    </tr>\n",
       "    <tr>\n",
       "      <th>20</th>\n",
       "      <td>covid 19 pandemic</td>\n",
       "      <td>222857</td>\n",
       "    </tr>\n",
       "    <tr>\n",
       "      <th>21</th>\n",
       "      <td>coronavirus covid 19</td>\n",
       "      <td>183073</td>\n",
       "    </tr>\n",
       "    <tr>\n",
       "      <th>22</th>\n",
       "      <td>href rel nofollow</td>\n",
       "      <td>131249</td>\n",
       "    </tr>\n",
       "    <tr>\n",
       "      <th>23</th>\n",
       "      <td>covid 19 cases</td>\n",
       "      <td>129913</td>\n",
       "    </tr>\n",
       "    <tr>\n",
       "      <th>24</th>\n",
       "      <td>true href rel</td>\n",
       "      <td>128585</td>\n",
       "    </tr>\n",
       "    <tr>\n",
       "      <th>25</th>\n",
       "      <td>rel nofollow twitter</td>\n",
       "      <td>112079</td>\n",
       "    </tr>\n",
       "    <tr>\n",
       "      <th>26</th>\n",
       "      <td>covid 19 crisis</td>\n",
       "      <td>101738</td>\n",
       "    </tr>\n",
       "    <tr>\n",
       "      <th>27</th>\n",
       "      <td>coronavirus death toll</td>\n",
       "      <td>88374</td>\n",
       "    </tr>\n",
       "    <tr>\n",
       "      <th>28</th>\n",
       "      <td>due covid 19</td>\n",
       "      <td>87122</td>\n",
       "    </tr>\n",
       "    <tr>\n",
       "      <th>29</th>\n",
       "      <td>bbc news coronavirus</td>\n",
       "      <td>85588</td>\n",
       "    </tr>\n",
       "  </tbody>\n",
       "</table>\n",
       "</div>"
      ],
      "text/plain": [
       "                   keyword     count\n",
       "0              coronavirus  28120854\n",
       "1                  covid19   8630451\n",
       "2                    covid   8171888\n",
       "3                       19   7903151\n",
       "4                      nan   3888201\n",
       "5                   people   2645140\n",
       "6                      via   2321653\n",
       "7                    china   2225140\n",
       "8                      amp   2143277\n",
       "9                    trump   2038513\n",
       "10                covid 19   1857560\n",
       "11    coronavirus outbreak    596717\n",
       "12     coronavirus covid19    482416\n",
       "13    coronavirus pandemic    424509\n",
       "14       coronavirus cases    360891\n",
       "15     covid19 coronavirus    344631\n",
       "16             via youtube    319903\n",
       "17         due coronavirus    256474\n",
       "18       novel coronavirus    251207\n",
       "19                new york    249719\n",
       "20       covid 19 pandemic    222857\n",
       "21    coronavirus covid 19    183073\n",
       "22       href rel nofollow    131249\n",
       "23          covid 19 cases    129913\n",
       "24           true href rel    128585\n",
       "25    rel nofollow twitter    112079\n",
       "26         covid 19 crisis    101738\n",
       "27  coronavirus death toll     88374\n",
       "28            due covid 19     87122\n",
       "29    bbc news coronavirus     85588"
      ]
     },
     "execution_count": 7,
     "metadata": {},
     "output_type": "execute_result"
    }
   ],
   "source": [
    "kw"
   ]
  },
  {
   "cell_type": "markdown",
   "metadata": {
    "Collapsed": "true"
   },
   "source": [
    "## Fetch Google trends result"
   ]
  },
  {
   "cell_type": "code",
   "execution_count": 9,
   "metadata": {
    "Collapsed": "false"
   },
   "outputs": [],
   "source": [
    "# result_us = kf.fetch_trends(kw, \"2020-01-21\", \"2020-05-01\", 'US', \"../data/trends/keywords_30_US.csv\")\n",
    "result_us = pd.read_csv('../data/trends/keywords_30_US.csv')"
   ]
  },
  {
   "cell_type": "code",
   "execution_count": 10,
   "metadata": {
    "Collapsed": "false"
   },
   "outputs": [
    {
     "data": {
      "text/html": [
       "<div>\n",
       "<style scoped>\n",
       "    .dataframe tbody tr th:only-of-type {\n",
       "        vertical-align: middle;\n",
       "    }\n",
       "\n",
       "    .dataframe tbody tr th {\n",
       "        vertical-align: top;\n",
       "    }\n",
       "\n",
       "    .dataframe thead th {\n",
       "        text-align: right;\n",
       "    }\n",
       "</style>\n",
       "<table border=\"1\" class=\"dataframe\">\n",
       "  <thead>\n",
       "    <tr style=\"text-align: right;\">\n",
       "      <th></th>\n",
       "      <th>date</th>\n",
       "      <th>coronavirus</th>\n",
       "      <th>covid19</th>\n",
       "      <th>covid</th>\n",
       "      <th>19</th>\n",
       "      <th>nan</th>\n",
       "      <th>people</th>\n",
       "      <th>via</th>\n",
       "      <th>china</th>\n",
       "      <th>amp</th>\n",
       "      <th>...</th>\n",
       "      <th>due coronavirus</th>\n",
       "      <th>novel coronavirus</th>\n",
       "      <th>new york</th>\n",
       "      <th>covid 19 pandemic</th>\n",
       "      <th>coronavirus covid 19</th>\n",
       "      <th>covid 19 cases</th>\n",
       "      <th>covid 19 crisis</th>\n",
       "      <th>coronavirus death toll</th>\n",
       "      <th>due covid 19</th>\n",
       "      <th>bbc news coronavirus</th>\n",
       "    </tr>\n",
       "  </thead>\n",
       "  <tbody>\n",
       "    <tr>\n",
       "      <th>0</th>\n",
       "      <td>2020-01-21</td>\n",
       "      <td>2</td>\n",
       "      <td>0</td>\n",
       "      <td>0</td>\n",
       "      <td>9</td>\n",
       "      <td>84</td>\n",
       "      <td>54</td>\n",
       "      <td>95</td>\n",
       "      <td>39</td>\n",
       "      <td>88</td>\n",
       "      <td>...</td>\n",
       "      <td>0</td>\n",
       "      <td>20</td>\n",
       "      <td>63</td>\n",
       "      <td>0</td>\n",
       "      <td>0</td>\n",
       "      <td>0</td>\n",
       "      <td>0</td>\n",
       "      <td>0</td>\n",
       "      <td>0</td>\n",
       "      <td>0</td>\n",
       "    </tr>\n",
       "  </tbody>\n",
       "</table>\n",
       "<p>1 rows × 28 columns</p>\n",
       "</div>"
      ],
      "text/plain": [
       "         date  coronavirus  covid19  covid  19  nan  people  via  china  amp  \\\n",
       "0  2020-01-21            2        0      0   9   84      54   95     39   88   \n",
       "\n",
       "   ...  due coronavirus  novel coronavirus  new york  covid 19 pandemic  \\\n",
       "0  ...                0                 20        63                  0   \n",
       "\n",
       "   coronavirus covid 19  covid 19 cases  covid 19 crisis  \\\n",
       "0                     0               0                0   \n",
       "\n",
       "   coronavirus death toll  due covid 19  bbc news coronavirus  \n",
       "0                       0             0                     0  \n",
       "\n",
       "[1 rows x 28 columns]"
      ]
     },
     "execution_count": 10,
     "metadata": {},
     "output_type": "execute_result"
    }
   ],
   "source": [
    "result_us.head(1)"
   ]
  },
  {
   "cell_type": "code",
   "execution_count": 12,
   "metadata": {
    "Collapsed": "false"
   },
   "outputs": [],
   "source": [
    "region_list = list(pd.read_csv(REGION_LIST_PATH)[\"####\"])"
   ]
  },
  {
   "cell_type": "code",
   "execution_count": null,
   "metadata": {
    "Collapsed": "false"
   },
   "outputs": [],
   "source": [
    "for region in region_list:\n",
    "    kf.fetch_trends(kw, \"2020-01-21\", \"2020-05-01\", 'US-'+region, \"../data/trends/keywords_30_US-{}.csv\".format(region))"
   ]
  },
  {
   "cell_type": "markdown",
   "metadata": {
    "Collapsed": "false"
   },
   "source": [
    "## Parse keyword and patient data"
   ]
  },
  {
   "cell_type": "code",
   "execution_count": 4,
   "metadata": {
    "Collapsed": "false"
   },
   "outputs": [],
   "source": [
    "parser = DataParser(keywords_path=KW_30_US_PATH, cases_path=US_DAILY_PATH)\n",
    "d_avg = parser.process_labels()\n",
    "train_matrix = parser.process_data_sample(label_array=d_avg)"
   ]
  },
  {
   "cell_type": "code",
   "execution_count": 5,
   "metadata": {
    "Collapsed": "false"
   },
   "outputs": [],
   "source": [
    "X_train, X_test, y_train, y_test = train_test_split(train_matrix[train_matrix.shape[0]-d_avg.shape[0]:], \n",
    "                                                    d_avg, test_size=0.15, shuffle=False) "
   ]
  },
  {
   "cell_type": "code",
   "execution_count": 6,
   "metadata": {
    "Collapsed": "false"
   },
   "outputs": [
    {
     "data": {
      "text/plain": [
       "array([[-0.49370222, -0.74254115, -0.74254115, ..., -0.52785659,\n",
       "        -0.74254115, -0.63519887],\n",
       "       [-0.45875162, -0.76368968, -0.76368968, ..., -0.44907104,\n",
       "        -0.76368968, -0.61848108],\n",
       "       [-0.42959961, -0.7816748 , -0.7816748 , ..., -0.35725539,\n",
       "        -0.7816748 , -0.61287163],\n",
       "       ...,\n",
       "       [-0.45014989, -0.04677836,  1.08398446, ..., -0.21209456,\n",
       "        -0.33112223, -0.99899968],\n",
       "       [-0.46488769, -0.05043593,  1.07450456, ..., -0.20174371,\n",
       "        -0.3070013 , -0.94512544],\n",
       "       [-0.53497822, -0.07155606,  1.07068168, ..., -0.20209751,\n",
       "        -0.26084117, -0.92660259]])"
      ]
     },
     "execution_count": 6,
     "metadata": {},
     "output_type": "execute_result"
    }
   ],
   "source": [
    "train_matrix"
   ]
  },
  {
   "cell_type": "markdown",
   "metadata": {
    "Collapsed": "false"
   },
   "source": [
    "## Train models"
   ]
  },
  {
   "cell_type": "code",
   "execution_count": 7,
   "metadata": {
    "Collapsed": "false"
   },
   "outputs": [],
   "source": [
    "## Elastic Net\n",
    "#########################################################\n",
    "EN_reg = ElasticNet(alpha=1,l1_ratio=1.0,max_iter=15000)\n",
    "EN_reg.fit(X_train,y_train)\n",
    "\n",
    "pred_ELN = EN_reg.predict(X_test)\n",
    "diff = y_test-pred_ELN"
   ]
  },
  {
   "cell_type": "code",
   "execution_count": 8,
   "metadata": {
    "Collapsed": "false"
   },
   "outputs": [
    {
     "name": "stderr",
     "output_type": "stream",
     "text": [
      "/opt/conda/lib/python3.7/site-packages/sklearn/neural_network/_multilayer_perceptron.py:571: ConvergenceWarning: Stochastic Optimizer: Maximum iterations (20000) reached and the optimization hasn't converged yet.\n",
      "  % self.max_iter, ConvergenceWarning)\n"
     ]
    }
   ],
   "source": [
    "## MLP\n",
    "#########################################################\n",
    "MLP_regressor = MLPRegressor(hidden_layer_sizes=(20,20,5),alpha=1,\n",
    "                             learning_rate_init=0.01,max_iter=20000,n_iter_no_change=100)\n",
    "MLP_regressor.fit(X_train,y_train)\n",
    "\n",
    "pred_MLP = MLP_regressor.predict(X_test)\n",
    "diff = y_test-pred_MLP"
   ]
  },
  {
   "cell_type": "code",
   "execution_count": 9,
   "metadata": {
    "Collapsed": "false"
   },
   "outputs": [
    {
     "data": {
      "text/plain": [
       "Text(0.5, 1.0, 'new increase pred in 4/19-5/2')"
      ]
     },
     "execution_count": 9,
     "metadata": {},
     "output_type": "execute_result"
    },
    {
     "data": {
      "image/png": "[encoded data removed]",
      "text/plain": [
       "<Figure size 864x576 with 1 Axes>"
      ]
     },
     "metadata": {
      "needs_background": "light"
     },
     "output_type": "display_data"
    }
   ],
   "source": [
    "fig = plt.figure(figsize=(12,8))\n",
    "ax1 = fig.add_subplot()\n",
    "ax1.plot(pred_MLP, 'xkcd:orange')\n",
    "ax1.plot(pred_ELN, 'xkcd:violet')\n",
    "ax1.plot(y_test, 'xkcd:maroon')\n",
    "ax1.set_ylabel('increase')\n",
    "ax1.legend(['pred_MLP','pred_ELN','ground truth'])\n",
    "ax1.grid(True)\n",
    "ax1.set_title('new increase pred in 4/19-5/2')"
   ]
  },
  {
   "cell_type": "code",
   "execution_count": null,
   "metadata": {
    "Collapsed": "false"
   },
   "outputs": [],
   "source": []
  }
 ],
 "metadata": {
  "kernelspec": {
   "display_name": "Python 3",
   "language": "python",
   "name": "python3"
  },
  "language_info": {
   "codemirror_mode": {
    "name": "ipython",
    "version": 3
   },
   "file_extension": ".py",
   "mimetype": "text/x-python",
   "name": "python",
   "nbconvert_exporter": "python",
   "pygments_lexer": "ipython3",
   "version": "3.7.6"
  }
 },
 "nbformat": 4,
 "nbformat_minor": 4
}
